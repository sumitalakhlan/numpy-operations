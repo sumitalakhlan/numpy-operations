{
  "nbformat": 4,
  "nbformat_minor": 0,
  "metadata": {
    "colab": {
      "provenance": []
    },
    "kernelspec": {
      "name": "python3",
      "display_name": "Python 3"
    },
    "language_info": {
      "name": "python"
    }
  },
  "cells": [
    {
      "cell_type": "markdown",
      "source": [
        "Q1: Questions on Basic NumPy Array"
      ],
      "metadata": {
        "id": "TVpp9R7U-9eq"
      }
    },
    {
      "cell_type": "markdown",
      "source": [
        "(a) Reverse the NumPy array: arr = np.array([1, 2, 3, 6, 4, 5])"
      ],
      "metadata": {
        "id": "acvsytZq-_Ld"
      }
    },
    {
      "cell_type": "code",
      "execution_count": 1,
      "metadata": {
        "id": "D-R9pgsi-1p7"
      },
      "outputs": [],
      "source": [
        "import numpy as np\n",
        "\n",
        "arr = np.array([1, 2, 3, 6, 4, 5])"
      ]
    },
    {
      "cell_type": "code",
      "source": [
        "reversed_arr = np.flip(arr)\n",
        "print(reversed_arr)"
      ],
      "metadata": {
        "colab": {
          "base_uri": "https://localhost:8080/"
        },
        "id": "Z1RRfI2xBnID",
        "outputId": "2a93313e-9ae5-44d5-ba48-fe810a90253d"
      },
      "execution_count": 2,
      "outputs": [
        {
          "output_type": "stream",
          "name": "stdout",
          "text": [
            "[5 4 6 3 2 1]\n"
          ]
        }
      ]
    },
    {
      "cell_type": "markdown",
      "source": [
        "(b) Flatten the NumPy arr: array1 = np.array([[1, 2, 3], [2, 4, 5], [1, 2, 3]]) using any two NumPy in-built methods"
      ],
      "metadata": {
        "id": "vgrM3Pc7_IjQ"
      }
    },
    {
      "cell_type": "code",
      "source": [
        "array1 = np.array([[1, 2, 3], [2, 4, 5], [1, 2, 3]])"
      ],
      "metadata": {
        "id": "cjHBYWTcBHCQ"
      },
      "execution_count": 3,
      "outputs": []
    },
    {
      "cell_type": "code",
      "source": [
        "flattened_array1 = array1.flatten()\n",
        "print(flattened_array1)"
      ],
      "metadata": {
        "colab": {
          "base_uri": "https://localhost:8080/"
        },
        "id": "HzYvPf29B6TS",
        "outputId": "0d367129-d0cc-4d79-821b-35193d876f05"
      },
      "execution_count": 4,
      "outputs": [
        {
          "output_type": "stream",
          "name": "stdout",
          "text": [
            "[1 2 3 2 4 5 1 2 3]\n"
          ]
        }
      ]
    },
    {
      "cell_type": "markdown",
      "source": [
        "(c) Compare the following numpy arrays:\n",
        "arr1 = np.array([[1, 2], [3, 4]]) arr2 = np.array([[1, 2], [3, 4]])\n"
      ],
      "metadata": {
        "id": "uDHkpgj3_Y33"
      }
    },
    {
      "cell_type": "code",
      "source": [
        "arr1 = np.array([[1, 2], [3, 4]])\n",
        "arr2 = np.array([[1, 2], [3, 4]])"
      ],
      "metadata": {
        "id": "EwjiXK8qBSfm"
      },
      "execution_count": 5,
      "outputs": []
    },
    {
      "cell_type": "code",
      "source": [
        "comparison = np.array_equal(arr1, arr2)\n",
        "print(comparison)"
      ],
      "metadata": {
        "colab": {
          "base_uri": "https://localhost:8080/"
        },
        "id": "E2w9JUh-CFZQ",
        "outputId": "6d5579c2-8d72-46e4-dc0a-c5d3ceb82314"
      },
      "execution_count": 6,
      "outputs": [
        {
          "output_type": "stream",
          "name": "stdout",
          "text": [
            "True\n"
          ]
        }
      ]
    },
    {
      "cell_type": "markdown",
      "source": [
        "(d) Find the most frequent value and their indice(s) in the following arrays:\n",
        "i. x = np.array([1,2,3,4,5,1,2,1,1,1])\n",
        "ii. y = np.array([1, 1, 1, 2, 3, 4, 2, 4, 3, 3, ])"
      ],
      "metadata": {
        "id": "tapH1Mtw_orb"
      }
    },
    {
      "cell_type": "code",
      "source": [
        "x = np.array([1, 2, 3, 4, 5, 1, 2, 1, 1, 1])\n",
        "y = np.array([1, 1, 1, 2, 3, 4, 2, 4, 3, 3])"
      ],
      "metadata": {
        "id": "asw8pC-iBTkH"
      },
      "execution_count": 7,
      "outputs": []
    },
    {
      "cell_type": "code",
      "source": [
        "from scipy import stats"
      ],
      "metadata": {
        "id": "6S57DZAYCQ2K"
      },
      "execution_count": 8,
      "outputs": []
    },
    {
      "cell_type": "code",
      "source": [
        "mode_x = stats.mode(x)\n",
        "most_frequent_value_x = mode_x.mode\n",
        "indices_x = np.where(x == most_frequent_value_x)"
      ],
      "metadata": {
        "id": "An2rhJnwCYfn"
      },
      "execution_count": 10,
      "outputs": []
    },
    {
      "cell_type": "code",
      "source": [
        "print(\"Most frequent value in x:\", most_frequent_value_x)\n",
        "print(\"Indices in x:\", indices_x)"
      ],
      "metadata": {
        "colab": {
          "base_uri": "https://localhost:8080/"
        },
        "id": "NktgAXzaCbiR",
        "outputId": "8008f6e1-cae6-4a3f-e811-51ab152e52de"
      },
      "execution_count": 11,
      "outputs": [
        {
          "output_type": "stream",
          "name": "stdout",
          "text": [
            "Most frequent value in x: 1\n",
            "Indices in x: (array([0, 5, 7, 8, 9]),)\n"
          ]
        }
      ]
    },
    {
      "cell_type": "code",
      "source": [
        "mode_y = stats.mode(y)\n",
        "most_frequent_value_y = mode_y.mode\n",
        "indices_y = np.where(y == most_frequent_value_y)"
      ],
      "metadata": {
        "id": "92Ouvme-CfHs"
      },
      "execution_count": 12,
      "outputs": []
    },
    {
      "cell_type": "code",
      "source": [
        "print(\"Most frequent value in y:\", most_frequent_value_y)\n",
        "print(\"Indices in y:\", indices_y)"
      ],
      "metadata": {
        "colab": {
          "base_uri": "https://localhost:8080/"
        },
        "id": "6vrOBSPKCmWL",
        "outputId": "84cd0dd4-2ae6-459b-e9e8-6ecd79252e0f"
      },
      "execution_count": 14,
      "outputs": [
        {
          "output_type": "stream",
          "name": "stdout",
          "text": [
            "Most frequent value in y: 1\n",
            "Indices in y: (array([0, 1, 2]),)\n"
          ]
        }
      ]
    },
    {
      "cell_type": "markdown",
      "source": [
        "(e) For the array gfg = np.matrix('[4, 1, 9; 12, 3, 1; 4, 5, 6]'), find\n",
        "i. Sum of all elements\n",
        "ii. Sum of all elements row-wise\n",
        "iii. Sum of all elements column-wise"
      ],
      "metadata": {
        "id": "lUlyF_a-_7e6"
      }
    },
    {
      "cell_type": "code",
      "source": [
        "gfg = np.matrix('[4, 1, 9; 12, 3, 1; 4, 5, 6]')"
      ],
      "metadata": {
        "id": "kFPi4QhhBV7s"
      },
      "execution_count": 15,
      "outputs": []
    },
    {
      "cell_type": "code",
      "source": [
        "total_sum = np.sum(gfg)\n",
        "print(\"Total sum:\", total_sum)"
      ],
      "metadata": {
        "colab": {
          "base_uri": "https://localhost:8080/"
        },
        "id": "y_p40xPQDBPE",
        "outputId": "7c43628e-8940-4094-863c-0ad7759dccd8"
      },
      "execution_count": 16,
      "outputs": [
        {
          "output_type": "stream",
          "name": "stdout",
          "text": [
            "Total sum: 45\n"
          ]
        }
      ]
    },
    {
      "cell_type": "code",
      "source": [
        "row_sum = np.sum(gfg, axis=1)\n",
        "print(\"Row-wise sum:\", row_sum)"
      ],
      "metadata": {
        "colab": {
          "base_uri": "https://localhost:8080/"
        },
        "id": "aS7mkoucDD2k",
        "outputId": "efa43a52-8ba8-4db0-aed8-ca41c1bce9d8"
      },
      "execution_count": 17,
      "outputs": [
        {
          "output_type": "stream",
          "name": "stdout",
          "text": [
            "Row-wise sum: [[14]\n",
            " [16]\n",
            " [15]]\n"
          ]
        }
      ]
    },
    {
      "cell_type": "code",
      "source": [
        "col_sum = np.sum(gfg, axis=0)\n",
        "print(\"Column-wise sum:\", col_sum)"
      ],
      "metadata": {
        "colab": {
          "base_uri": "https://localhost:8080/"
        },
        "id": "W6kgjcNJDGV2",
        "outputId": "703bb89d-004d-4090-ed2a-5bf73a11706f"
      },
      "execution_count": 18,
      "outputs": [
        {
          "output_type": "stream",
          "name": "stdout",
          "text": [
            "Column-wise sum: [[20  9 16]]\n"
          ]
        }
      ]
    },
    {
      "cell_type": "markdown",
      "source": [
        "(f) For the matrix: n_array = np.array([[55, 25, 15],[30, 44, 2],[11, 45, 77]]), find\n",
        "i. Sum of diagonal elements\n",
        "ii.Eigen values of matrix\n",
        "iii. Eigen vectors of matrix\n",
        "iv. Inverse of matrix\n",
        "v. Determinant of matrix"
      ],
      "metadata": {
        "id": "7hX1keidAO5_"
      }
    },
    {
      "cell_type": "code",
      "source": [
        "n_array = np.array([[55, 25, 15], [30, 44, 2], [11, 45, 77]])"
      ],
      "metadata": {
        "id": "IQeoSqM9BWuQ"
      },
      "execution_count": 19,
      "outputs": []
    },
    {
      "cell_type": "code",
      "source": [
        "sum_diag = np.trace(n_array)\n",
        "print(\"Sum of diagonal elements:\", sum_diag)"
      ],
      "metadata": {
        "colab": {
          "base_uri": "https://localhost:8080/"
        },
        "id": "sidA62RNBW1S",
        "outputId": "06cd10d8-fd3b-4fd3-cd2c-b30f2d79f559"
      },
      "execution_count": 20,
      "outputs": [
        {
          "output_type": "stream",
          "name": "stdout",
          "text": [
            "Sum of diagonal elements: 176\n"
          ]
        }
      ]
    },
    {
      "cell_type": "code",
      "source": [
        "eigen_values, eigen_vectors = np.linalg.eig(n_array)\n",
        "print(\"Eigenvalues:\", eigen_values)\n",
        "print(\"Eigenvectors:\\n\", eigen_vectors)"
      ],
      "metadata": {
        "colab": {
          "base_uri": "https://localhost:8080/"
        },
        "id": "IHRMBmq-DQ2O",
        "outputId": "0260b377-16e3-4fa5-e30a-ecaee573be78"
      },
      "execution_count": 21,
      "outputs": [
        {
          "output_type": "stream",
          "name": "stdout",
          "text": [
            "Eigenvalues: [98.16835147 28.097044   49.73460452]\n",
            "Eigenvectors:\n",
            " [[ 0.4574917   0.34637121 -0.15017693]\n",
            " [ 0.28447814 -0.72784061 -0.4852124 ]\n",
            " [ 0.84248058  0.59184038  0.8614034 ]]\n"
          ]
        }
      ]
    },
    {
      "cell_type": "code",
      "source": [
        "inverse_matrix = np.linalg.inv(n_array)\n",
        "print(\"Inverse of matrix:\\n\", inverse_matrix)"
      ],
      "metadata": {
        "colab": {
          "base_uri": "https://localhost:8080/"
        },
        "id": "GfJsnwiuDTVT",
        "outputId": "61a250d0-f521-4aaf-a6a4-095f3c92ecd9"
      },
      "execution_count": 22,
      "outputs": [
        {
          "output_type": "stream",
          "name": "stdout",
          "text": [
            "Inverse of matrix:\n",
            " [[ 0.02404141 -0.00911212 -0.00444671]\n",
            " [-0.01667882  0.02966905  0.0024785 ]\n",
            " [ 0.00631287 -0.01603732  0.01217379]]\n"
          ]
        }
      ]
    },
    {
      "cell_type": "code",
      "source": [
        "det_matrix = np.linalg.det(n_array)\n",
        "print(\"Determinant of matrix:\", det_matrix)"
      ],
      "metadata": {
        "colab": {
          "base_uri": "https://localhost:8080/"
        },
        "id": "u3Z2iH5ADWSm",
        "outputId": "904f944d-59d8-43b1-9ea8-04bbd0751c66"
      },
      "execution_count": 23,
      "outputs": [
        {
          "output_type": "stream",
          "name": "stdout",
          "text": [
            "Determinant of matrix: 137180.0000000001\n"
          ]
        }
      ]
    },
    {
      "cell_type": "markdown",
      "source": [
        "(g) Multiply the following matrices and also find covariance between matrices using NumPy:\n",
        "i. p = [[1, 2], [2, 3]]   q = [[4, 5], [6, 7]]\n",
        "ii. p = [[1, 2], [2, 3], [4, 5]]  q = [[4, 5, 1], [6, 7, 2]]"
      ],
      "metadata": {
        "id": "rAIyqgP7AhQQ"
      }
    },
    {
      "cell_type": "code",
      "source": [
        "p = np.array([[1, 2], [2, 3]])\n",
        "q = np.array([[4, 5], [6, 7]])"
      ],
      "metadata": {
        "id": "LAPE_6H1BXdU"
      },
      "execution_count": 24,
      "outputs": []
    },
    {
      "cell_type": "code",
      "source": [
        "product_pq = np.dot(p, q)\n",
        "print(\"Product of p and q:\\n\", product_pq)"
      ],
      "metadata": {
        "colab": {
          "base_uri": "https://localhost:8080/"
        },
        "id": "ohGLkuL4DfwF",
        "outputId": "fccb12ad-3007-4510-b69a-263566b32285"
      },
      "execution_count": 25,
      "outputs": [
        {
          "output_type": "stream",
          "name": "stdout",
          "text": [
            "Product of p and q:\n",
            " [[16 19]\n",
            " [26 31]]\n"
          ]
        }
      ]
    },
    {
      "cell_type": "code",
      "source": [
        "p2 = np.array([[1, 2], [2, 3], [4, 5]])\n",
        "q2 = np.array([[4, 5, 1], [6, 7, 2]])"
      ],
      "metadata": {
        "id": "rirjc5LoDiUl"
      },
      "execution_count": 26,
      "outputs": []
    },
    {
      "cell_type": "code",
      "source": [
        "product_p2q2 = np.dot(p2, q2)\n",
        "print(\"Product of p2 and q2:\\n\", product_p2q2)"
      ],
      "metadata": {
        "colab": {
          "base_uri": "https://localhost:8080/"
        },
        "id": "pSJ7Y3vLDlJA",
        "outputId": "7903ddaa-f28d-4540-c0b2-6058f50f759f"
      },
      "execution_count": 27,
      "outputs": [
        {
          "output_type": "stream",
          "name": "stdout",
          "text": [
            "Product of p2 and q2:\n",
            " [[16 19  5]\n",
            " [26 31  8]\n",
            " [46 55 14]]\n"
          ]
        }
      ]
    },
    {
      "cell_type": "code",
      "source": [
        "cov_pq = np.cov(p, q)\n",
        "print(\"Covariance between matrices:\\n\", cov_pq)"
      ],
      "metadata": {
        "colab": {
          "base_uri": "https://localhost:8080/"
        },
        "id": "i63IUx4FDnXR",
        "outputId": "50a8003d-f53c-4add-d8e2-f9a504cdad98"
      },
      "execution_count": 28,
      "outputs": [
        {
          "output_type": "stream",
          "name": "stdout",
          "text": [
            "Covariance between matrices:\n",
            " [[0.5 0.5 0.5 0.5]\n",
            " [0.5 0.5 0.5 0.5]\n",
            " [0.5 0.5 0.5 0.5]\n",
            " [0.5 0.5 0.5 0.5]]\n"
          ]
        }
      ]
    },
    {
      "cell_type": "markdown",
      "source": [
        "(h) For the matrices: x = np.array([[2, 3, 4], [3, 2, 9]]); y = np.array([[1, 5, 0], [5, 10, 3]]),\n",
        "find inner, outer and cartesian product?"
      ],
      "metadata": {
        "id": "WuHkldIaBBmb"
      }
    },
    {
      "cell_type": "code",
      "source": [
        "x = np.array([[2, 3, 4], [3, 2, 9]])\n",
        "y = np.array([[1, 5, 0], [5, 10, 3]])"
      ],
      "metadata": {
        "id": "_Me7SHoXBYly"
      },
      "execution_count": 29,
      "outputs": []
    },
    {
      "cell_type": "code",
      "source": [
        "inner_product = np.inner(x, y)\n",
        "print(\"Inner product:\\n\", inner_product)"
      ],
      "metadata": {
        "colab": {
          "base_uri": "https://localhost:8080/"
        },
        "id": "5O6xX2C2BYsR",
        "outputId": "b06424c4-7ae3-467d-b95e-91acd57b0690"
      },
      "execution_count": 30,
      "outputs": [
        {
          "output_type": "stream",
          "name": "stdout",
          "text": [
            "Inner product:\n",
            " [[17 52]\n",
            " [13 62]]\n"
          ]
        }
      ]
    },
    {
      "cell_type": "code",
      "source": [
        "outer_product = np.outer(x, y)\n",
        "print(\"Outer product:\\n\", outer_product)"
      ],
      "metadata": {
        "colab": {
          "base_uri": "https://localhost:8080/"
        },
        "id": "v2UqVkvRDyxK",
        "outputId": "4833d6c0-08fc-4d73-d5ab-c33e15c73d5f"
      },
      "execution_count": 31,
      "outputs": [
        {
          "output_type": "stream",
          "name": "stdout",
          "text": [
            "Outer product:\n",
            " [[ 2 10  0 10 20  6]\n",
            " [ 3 15  0 15 30  9]\n",
            " [ 4 20  0 20 40 12]\n",
            " [ 3 15  0 15 30  9]\n",
            " [ 2 10  0 10 20  6]\n",
            " [ 9 45  0 45 90 27]]\n"
          ]
        }
      ]
    },
    {
      "cell_type": "code",
      "source": [
        "cartesian_product = np.array(np.meshgrid(x, y)).T.reshape(-1, 2)\n",
        "print(\"Cartesian product:\\n\", cartesian_product)"
      ],
      "metadata": {
        "colab": {
          "base_uri": "https://localhost:8080/"
        },
        "id": "x40WXcydD0-a",
        "outputId": "bf6315ef-bfb7-44e9-bc4a-3f465ed7f987"
      },
      "execution_count": 32,
      "outputs": [
        {
          "output_type": "stream",
          "name": "stdout",
          "text": [
            "Cartesian product:\n",
            " [[ 2  1]\n",
            " [ 2  5]\n",
            " [ 2  0]\n",
            " [ 2  5]\n",
            " [ 2 10]\n",
            " [ 2  3]\n",
            " [ 3  1]\n",
            " [ 3  5]\n",
            " [ 3  0]\n",
            " [ 3  5]\n",
            " [ 3 10]\n",
            " [ 3  3]\n",
            " [ 4  1]\n",
            " [ 4  5]\n",
            " [ 4  0]\n",
            " [ 4  5]\n",
            " [ 4 10]\n",
            " [ 4  3]\n",
            " [ 3  1]\n",
            " [ 3  5]\n",
            " [ 3  0]\n",
            " [ 3  5]\n",
            " [ 3 10]\n",
            " [ 3  3]\n",
            " [ 2  1]\n",
            " [ 2  5]\n",
            " [ 2  0]\n",
            " [ 2  5]\n",
            " [ 2 10]\n",
            " [ 2  3]\n",
            " [ 9  1]\n",
            " [ 9  5]\n",
            " [ 9  0]\n",
            " [ 9  5]\n",
            " [ 9 10]\n",
            " [ 9  3]]\n"
          ]
        }
      ]
    },
    {
      "cell_type": "markdown",
      "source": [
        "Q2: Based on NumPy Mathematics and Statistics"
      ],
      "metadata": {
        "id": "OHuON1euD8-H"
      }
    },
    {
      "cell_type": "markdown",
      "source": [
        "(a)For the array: array = np.array([[1, -2, 3],[-4, 5, -6]])\n",
        "i. Find element-wise absolute value\n",
        "ii. Find the 25th, 50th, and 75th percentile of flattened array, for each column, for each row.\n",
        "iii. Mean, Median and Standard Deviation of flattened array, of each column, and each row"
      ],
      "metadata": {
        "id": "sG8TdzccECfR"
      }
    },
    {
      "cell_type": "code",
      "source": [
        "import numpy as np\n",
        "\n",
        "array = np.array([[1, -2, 3], [-4, 5, -6]])"
      ],
      "metadata": {
        "id": "tvuNf2DRFXMM"
      },
      "execution_count": 33,
      "outputs": []
    },
    {
      "cell_type": "code",
      "source": [
        "abs_array = np.abs(array)\n",
        "print(\"Element-wise absolute value:\\n\", abs_array)"
      ],
      "metadata": {
        "colab": {
          "base_uri": "https://localhost:8080/"
        },
        "id": "yuY033oMFYii",
        "outputId": "0b829cf5-4853-4b34-d33b-a8ef94a31ba8"
      },
      "execution_count": 34,
      "outputs": [
        {
          "output_type": "stream",
          "name": "stdout",
          "text": [
            "Element-wise absolute value:\n",
            " [[1 2 3]\n",
            " [4 5 6]]\n"
          ]
        }
      ]
    },
    {
      "cell_type": "code",
      "source": [
        "percentiles_flattened = np.percentile(array, [25, 50, 75])\n",
        "print(\"Percentiles for the flattened array:\", percentiles_flattened)"
      ],
      "metadata": {
        "colab": {
          "base_uri": "https://localhost:8080/"
        },
        "id": "44FyEe9pFbER",
        "outputId": "7b40a659-4299-46f5-850e-1f072deaa2cc"
      },
      "execution_count": 35,
      "outputs": [
        {
          "output_type": "stream",
          "name": "stdout",
          "text": [
            "Percentiles for the flattened array: [-3.5 -0.5  2.5]\n"
          ]
        }
      ]
    },
    {
      "cell_type": "code",
      "source": [
        "percentiles_col = np.percentile(array, [25, 50, 75], axis=0)\n",
        "print(\"Percentiles for each column:\\n\", percentiles_col)"
      ],
      "metadata": {
        "colab": {
          "base_uri": "https://localhost:8080/"
        },
        "id": "V6gjarJvFfWH",
        "outputId": "a7214f65-4a0f-43f9-babf-db8aec80b82d"
      },
      "execution_count": 36,
      "outputs": [
        {
          "output_type": "stream",
          "name": "stdout",
          "text": [
            "Percentiles for each column:\n",
            " [[-2.75 -0.25 -3.75]\n",
            " [-1.5   1.5  -1.5 ]\n",
            " [-0.25  3.25  0.75]]\n"
          ]
        }
      ]
    },
    {
      "cell_type": "code",
      "source": [
        "percentiles_row = np.percentile(array, [25, 50, 75], axis=1)\n",
        "print(\"Percentiles for each row:\\n\", percentiles_row)"
      ],
      "metadata": {
        "colab": {
          "base_uri": "https://localhost:8080/"
        },
        "id": "DxqPVCzcFhwX",
        "outputId": "42dbd744-105a-4ab5-b925-e8f7fe253899"
      },
      "execution_count": 37,
      "outputs": [
        {
          "output_type": "stream",
          "name": "stdout",
          "text": [
            "Percentiles for each row:\n",
            " [[-0.5 -5. ]\n",
            " [ 1.  -4. ]\n",
            " [ 2.   0.5]]\n"
          ]
        }
      ]
    },
    {
      "cell_type": "code",
      "source": [
        "mean_flattened = np.mean(array)\n",
        "median_flattened = np.median(array)\n",
        "std_flattened = np.std(array)"
      ],
      "metadata": {
        "id": "HwV-oo8WFj9X"
      },
      "execution_count": 38,
      "outputs": []
    },
    {
      "cell_type": "code",
      "source": [
        "print(\"Mean (flattened):\", mean_flattened)"
      ],
      "metadata": {
        "colab": {
          "base_uri": "https://localhost:8080/"
        },
        "id": "08BlbAT5FnSB",
        "outputId": "3c438a27-3f89-48ca-a0b4-aee1be437bc8"
      },
      "execution_count": 39,
      "outputs": [
        {
          "output_type": "stream",
          "name": "stdout",
          "text": [
            "Mean (flattened): -0.5\n"
          ]
        }
      ]
    },
    {
      "cell_type": "code",
      "source": [
        "print(\"Median (flattened):\", median_flattened)"
      ],
      "metadata": {
        "colab": {
          "base_uri": "https://localhost:8080/"
        },
        "id": "bdihTkLMFsBU",
        "outputId": "c11a948c-374b-41ec-a057-abb6d4690e2d"
      },
      "execution_count": 40,
      "outputs": [
        {
          "output_type": "stream",
          "name": "stdout",
          "text": [
            "Median (flattened): -0.5\n"
          ]
        }
      ]
    },
    {
      "cell_type": "code",
      "source": [
        "print(\"Standard Deviation (flattened):\", std_flattened)"
      ],
      "metadata": {
        "colab": {
          "base_uri": "https://localhost:8080/"
        },
        "id": "yQn2GRJWFucK",
        "outputId": "c4792dda-6006-4501-a046-f0dfd72efe49"
      },
      "execution_count": 41,
      "outputs": [
        {
          "output_type": "stream",
          "name": "stdout",
          "text": [
            "Standard Deviation (flattened): 3.8622100754188224\n"
          ]
        }
      ]
    },
    {
      "cell_type": "code",
      "source": [
        "mean_col = np.mean(array, axis=0)\n",
        "median_col = np.median(array, axis=0)\n",
        "std_col = np.std(array, axis=0)"
      ],
      "metadata": {
        "id": "sPRSWnLXFwqk"
      },
      "execution_count": 44,
      "outputs": []
    },
    {
      "cell_type": "code",
      "source": [
        "print(\"Mean for each column:\", mean_col)"
      ],
      "metadata": {
        "colab": {
          "base_uri": "https://localhost:8080/"
        },
        "id": "QA0UKdD5Fzf5",
        "outputId": "c5a39b1a-175e-42e3-894f-10972e817953"
      },
      "execution_count": 45,
      "outputs": [
        {
          "output_type": "stream",
          "name": "stdout",
          "text": [
            "Mean for each column: [-1.5  1.5 -1.5]\n"
          ]
        }
      ]
    },
    {
      "cell_type": "code",
      "source": [
        "print(\"Median for each column:\", median_col)"
      ],
      "metadata": {
        "colab": {
          "base_uri": "https://localhost:8080/"
        },
        "id": "uBBmwCnLF1sc",
        "outputId": "85d5eb6b-73d6-4420-c0ba-6f722e3d5cb8"
      },
      "execution_count": 46,
      "outputs": [
        {
          "output_type": "stream",
          "name": "stdout",
          "text": [
            "Median for each column: [-1.5  1.5 -1.5]\n"
          ]
        }
      ]
    },
    {
      "cell_type": "code",
      "source": [
        "print(\"Standard Deviation for each column:\", std_col)"
      ],
      "metadata": {
        "colab": {
          "base_uri": "https://localhost:8080/"
        },
        "id": "MEOoXXLoF4BS",
        "outputId": "3c2d4bb3-7ec2-4639-cbf4-0478f15ceda6"
      },
      "execution_count": 47,
      "outputs": [
        {
          "output_type": "stream",
          "name": "stdout",
          "text": [
            "Standard Deviation for each column: [2.5 3.5 4.5]\n"
          ]
        }
      ]
    },
    {
      "cell_type": "code",
      "source": [
        "mean_row = np.mean(array, axis=1)\n",
        "median_row = np.median(array, axis=1)\n",
        "std_row = np.std(array, axis=1)"
      ],
      "metadata": {
        "id": "AxKYuEJSF6Dq"
      },
      "execution_count": 48,
      "outputs": []
    },
    {
      "cell_type": "code",
      "source": [
        "print(\"Mean for each row:\", mean_row)"
      ],
      "metadata": {
        "colab": {
          "base_uri": "https://localhost:8080/"
        },
        "id": "doy4oLF6F9D_",
        "outputId": "b9d84af0-c158-4ff7-ebb8-b699011c6318"
      },
      "execution_count": 49,
      "outputs": [
        {
          "output_type": "stream",
          "name": "stdout",
          "text": [
            "Mean for each row: [ 0.66666667 -1.66666667]\n"
          ]
        }
      ]
    },
    {
      "cell_type": "code",
      "source": [
        "print(\"Median for each row:\", median_row)"
      ],
      "metadata": {
        "colab": {
          "base_uri": "https://localhost:8080/"
        },
        "id": "hHI1Mj41F_l4",
        "outputId": "fbedb84e-aeec-4090-bfca-01e036ac8f8f"
      },
      "execution_count": 50,
      "outputs": [
        {
          "output_type": "stream",
          "name": "stdout",
          "text": [
            "Median for each row: [ 1. -4.]\n"
          ]
        }
      ]
    },
    {
      "cell_type": "code",
      "source": [
        "print(\"Standard Deviation for each row:\", std_row)"
      ],
      "metadata": {
        "colab": {
          "base_uri": "https://localhost:8080/"
        },
        "id": "pAWpjzrCGBi5",
        "outputId": "97be51c0-f014-4971-acfe-436134b577c3"
      },
      "execution_count": 51,
      "outputs": [
        {
          "output_type": "stream",
          "name": "stdout",
          "text": [
            "Standard Deviation for each row: [2.05480467 4.78423336]\n"
          ]
        }
      ]
    },
    {
      "cell_type": "markdown",
      "source": [
        "(b) For the array: a = np.array([-1.8, -1.6, -0.5, 0.5,1.6, 1.8, 3.0]). Find floor, ceiling\n",
        "and truncated value, rounded values"
      ],
      "metadata": {
        "id": "-wm4s14REW0P"
      }
    },
    {
      "cell_type": "code",
      "source": [
        "a = np.array([-1.8, -1.6, -0.5, 0.5, 1.6, 1.8, 3.0])"
      ],
      "metadata": {
        "id": "W_o-hGWqGFH-"
      },
      "execution_count": 52,
      "outputs": []
    },
    {
      "cell_type": "code",
      "source": [
        "floor_values = np.floor(a)\n",
        "ceiling_values = np.ceil(a)\n",
        "truncated_values = np.trunc(a)"
      ],
      "metadata": {
        "id": "k9q1a9OZGI7V"
      },
      "execution_count": 53,
      "outputs": []
    },
    {
      "cell_type": "code",
      "source": [
        "print(\"Floor values:\", floor_values)"
      ],
      "metadata": {
        "colab": {
          "base_uri": "https://localhost:8080/"
        },
        "id": "O792QTEWGLgv",
        "outputId": "44a5fba7-6832-4731-ab61-60ec6270042b"
      },
      "execution_count": 54,
      "outputs": [
        {
          "output_type": "stream",
          "name": "stdout",
          "text": [
            "Floor values: [-2. -2. -1.  0.  1.  1.  3.]\n"
          ]
        }
      ]
    },
    {
      "cell_type": "code",
      "source": [
        "print(\"Ceiling values:\", ceiling_values)"
      ],
      "metadata": {
        "colab": {
          "base_uri": "https://localhost:8080/"
        },
        "id": "2giRCNhrGODK",
        "outputId": "aff81d92-0fce-4fb3-cbe2-b2dace6eb369"
      },
      "execution_count": 55,
      "outputs": [
        {
          "output_type": "stream",
          "name": "stdout",
          "text": [
            "Ceiling values: [-1. -1. -0.  1.  2.  2.  3.]\n"
          ]
        }
      ]
    },
    {
      "cell_type": "code",
      "source": [
        "print(\"Truncated values:\", truncated_values)"
      ],
      "metadata": {
        "colab": {
          "base_uri": "https://localhost:8080/"
        },
        "id": "7dkHHqK8GQ2V",
        "outputId": "6bf4f441-f94b-4c99-be52-97f198c5ad8a"
      },
      "execution_count": 56,
      "outputs": [
        {
          "output_type": "stream",
          "name": "stdout",
          "text": [
            "Truncated values: [-1. -1. -0.  0.  1.  1.  3.]\n"
          ]
        }
      ]
    },
    {
      "cell_type": "code",
      "source": [
        "rounded_values = np.round(a)\n",
        "print(\"Rounded values:\", rounded_values)"
      ],
      "metadata": {
        "colab": {
          "base_uri": "https://localhost:8080/"
        },
        "id": "2j4lkzZ3GTjV",
        "outputId": "2c72280c-ba32-448a-9277-938a2d8abb40"
      },
      "execution_count": 57,
      "outputs": [
        {
          "output_type": "stream",
          "name": "stdout",
          "text": [
            "Rounded values: [-2. -2. -0.  0.  2.  2.  3.]\n"
          ]
        }
      ]
    },
    {
      "cell_type": "markdown",
      "source": [
        "Q3: Based on Searching and Sorting"
      ],
      "metadata": {
        "id": "NVFw7GmMEbRc"
      }
    },
    {
      "cell_type": "markdown",
      "source": [
        "(a) For the array: array = np.array([10, 52, 62, 16, 16, 54, 453]), find i. Sorted array\n",
        "ii. Indices of sorted array iii. 4 smallest elements iv. 5 largest elements"
      ],
      "metadata": {
        "id": "66QrvMsHEgtp"
      }
    },
    {
      "cell_type": "code",
      "source": [
        "array = np.array([10, 52, 62, 16, 16, 54, 453])"
      ],
      "metadata": {
        "id": "pns0aNf1GZ7Q"
      },
      "execution_count": 58,
      "outputs": []
    },
    {
      "cell_type": "code",
      "source": [
        "sorted_array = np.sort(array)\n",
        "print(\"Sorted array:\", sorted_array)"
      ],
      "metadata": {
        "colab": {
          "base_uri": "https://localhost:8080/"
        },
        "id": "wKdtU8gxGfov",
        "outputId": "0c55a3f5-8274-475b-856a-a971e6bf3ea7"
      },
      "execution_count": 59,
      "outputs": [
        {
          "output_type": "stream",
          "name": "stdout",
          "text": [
            "Sorted array: [ 10  16  16  52  54  62 453]\n"
          ]
        }
      ]
    },
    {
      "cell_type": "code",
      "source": [
        "sorted_indices = np.argsort(array)\n",
        "print(\"Indices of sorted array:\", sorted_indices)"
      ],
      "metadata": {
        "colab": {
          "base_uri": "https://localhost:8080/"
        },
        "id": "d9sdQ6TJGhW6",
        "outputId": "b86271ce-30c3-4a0d-d612-13dc38c8d11d"
      },
      "execution_count": 60,
      "outputs": [
        {
          "output_type": "stream",
          "name": "stdout",
          "text": [
            "Indices of sorted array: [0 3 4 1 5 2 6]\n"
          ]
        }
      ]
    },
    {
      "cell_type": "code",
      "source": [
        "smallest_elements = np.sort(array)[:4]\n",
        "print(\"4 smallest elements:\", smallest_elements)"
      ],
      "metadata": {
        "colab": {
          "base_uri": "https://localhost:8080/"
        },
        "id": "jCgGu9HqGjEq",
        "outputId": "574277e4-673c-46a9-fa14-24f057ebaa7d"
      },
      "execution_count": 61,
      "outputs": [
        {
          "output_type": "stream",
          "name": "stdout",
          "text": [
            "4 smallest elements: [10 16 16 52]\n"
          ]
        }
      ]
    },
    {
      "cell_type": "code",
      "source": [
        "largest_elements = np.sort(array)[-5:]\n",
        "print(\"5 largest elements:\", largest_elements)"
      ],
      "metadata": {
        "colab": {
          "base_uri": "https://localhost:8080/"
        },
        "id": "U9kVh2K6GlsX",
        "outputId": "83bae045-f458-40bb-c0c2-5c1deb33b679"
      },
      "execution_count": 62,
      "outputs": [
        {
          "output_type": "stream",
          "name": "stdout",
          "text": [
            "5 largest elements: [ 16  52  54  62 453]\n"
          ]
        }
      ]
    },
    {
      "cell_type": "markdown",
      "source": [
        "(b) For the array: array = np.array([1.0, 1.2, 2.2, 2.0, 3.0, 2.0]), find i. Integer elements only\n",
        "ii. Float elements only"
      ],
      "metadata": {
        "id": "KHdLcK9zEmqQ"
      }
    },
    {
      "cell_type": "code",
      "source": [
        "array = np.array([1.0, 1.2, 2.2, 2.0, 3.0, 2.0])"
      ],
      "metadata": {
        "id": "1f7RwuziGo1d"
      },
      "execution_count": 63,
      "outputs": []
    },
    {
      "cell_type": "code",
      "source": [
        "integer_elements = array[array == array.astype(int)]\n",
        "print(\"Integer elements only:\", integer_elements)"
      ],
      "metadata": {
        "colab": {
          "base_uri": "https://localhost:8080/"
        },
        "id": "yNs1uQEHGrTz",
        "outputId": "7ce7de74-3d83-4202-ba06-f789cdbc0cb3"
      },
      "execution_count": 64,
      "outputs": [
        {
          "output_type": "stream",
          "name": "stdout",
          "text": [
            "Integer elements only: [1. 2. 3. 2.]\n"
          ]
        }
      ]
    },
    {
      "cell_type": "code",
      "source": [
        "float_elements = array[array != array.astype(int)]\n",
        "print(\"Float elements only:\", float_elements)"
      ],
      "metadata": {
        "colab": {
          "base_uri": "https://localhost:8080/"
        },
        "id": "uulo9AJ-GtEE",
        "outputId": "f808f261-a4ab-4aea-98af-50a2f81d4b20"
      },
      "execution_count": 65,
      "outputs": [
        {
          "output_type": "stream",
          "name": "stdout",
          "text": [
            "Float elements only: [1.2 2.2]\n"
          ]
        }
      ]
    },
    {
      "cell_type": "markdown",
      "source": [
        "Q4:"
      ],
      "metadata": {
        "id": "cUsZjU8gErdx"
      }
    },
    {
      "cell_type": "markdown",
      "source": [
        "(a) Write a function named img_to_array(path) that reads an image from a specified path and save it as text file on local machine? (Note: use separate cases for RGB and Grey Scale images)"
      ],
      "metadata": {
        "id": "-lyIro7EExum"
      }
    },
    {
      "cell_type": "code",
      "source": [
        "from PIL import Image\n",
        "import numpy as np"
      ],
      "metadata": {
        "id": "rjGllsijGvP7"
      },
      "execution_count": 66,
      "outputs": []
    },
    {
      "cell_type": "code",
      "source": [
        "def img_to_array(path):\n",
        "    img = Image.open(path)\n",
        "    if img.mode == 'RGB':\n",
        "        img_array = np.array(img)\n",
        "        np.savetxt('image_rgb.txt', img_array.reshape(-1, 3), fmt='%d')\n",
        "    elif img.mode == 'L':\n",
        "        img_array = np.array(img)\n",
        "        np.savetxt('image_greyscale.txt', img_array, fmt='%d')"
      ],
      "metadata": {
        "id": "nDKc7nRQG_Mq"
      },
      "execution_count": 67,
      "outputs": []
    },
    {
      "cell_type": "code",
      "source": [
        "img_to_array('/content/elisabeth-arnold-oPmIQeKYeqc-unsplash.jpg')"
      ],
      "metadata": {
        "id": "0f0mFyuxHBTZ"
      },
      "execution_count": 68,
      "outputs": []
    },
    {
      "cell_type": "markdown",
      "source": [
        "(b) Load the saved file into jupyter notebook?"
      ],
      "metadata": {
        "id": "-bFMIidVE2sV"
      }
    },
    {
      "cell_type": "code",
      "source": [
        "import numpy as np"
      ],
      "metadata": {
        "id": "UHkXNNEeKlkm"
      },
      "execution_count": 75,
      "outputs": []
    },
    {
      "cell_type": "code",
      "source": [
        "image_rgb = np.loadtxt('image_rgb.txt').reshape(-1, 3)"
      ],
      "metadata": {
        "id": "DqlrZossHECj"
      },
      "execution_count": 69,
      "outputs": []
    },
    {
      "cell_type": "code",
      "source": [
        "print(\"Loaded RGB image array:\\n\", image_rgb)"
      ],
      "metadata": {
        "colab": {
          "base_uri": "https://localhost:8080/"
        },
        "id": "OElMqNjmKQ3U",
        "outputId": "23c47c44-19e4-47ea-cfea-dce42584020e"
      },
      "execution_count": 73,
      "outputs": [
        {
          "output_type": "stream",
          "name": "stdout",
          "text": [
            "Loaded RGB image array:\n",
            " [[  2. 136. 199.]\n",
            " [  2. 136. 199.]\n",
            " [  3. 137. 200.]\n",
            " ...\n",
            " [ 26.  26.  26.]\n",
            " [ 26.  26.  26.]\n",
            " [ 27.  27.  27.]]\n"
          ]
        }
      ]
    },
    {
      "cell_type": "code",
      "source": [
        "image = Image.open('/jonas-aberg-DmgwxkcdFCM-unsplash.jpg')\n",
        "image_greyscale = np.array(image)"
      ],
      "metadata": {
        "id": "VeymDDm2KZm1"
      },
      "execution_count": 78,
      "outputs": []
    },
    {
      "cell_type": "code",
      "source": [
        "print(\"Loaded Greyscale image array:\\n\", image_greyscale)"
      ],
      "metadata": {
        "colab": {
          "base_uri": "https://localhost:8080/"
        },
        "id": "Y_kxoEN9HH-k",
        "outputId": "df2ab776-31a8-4e0e-8d8f-ce09e290c71c"
      },
      "execution_count": 79,
      "outputs": [
        {
          "output_type": "stream",
          "name": "stdout",
          "text": [
            "Loaded Greyscale image array:\n",
            " [[[250 250 250]\n",
            "  [250 250 250]\n",
            "  [250 250 250]\n",
            "  ...\n",
            "  [238 238 238]\n",
            "  [239 239 239]\n",
            "  [239 239 239]]\n",
            "\n",
            " [[250 250 250]\n",
            "  [250 250 250]\n",
            "  [250 250 250]\n",
            "  ...\n",
            "  [239 239 239]\n",
            "  [239 239 239]\n",
            "  [239 239 239]]\n",
            "\n",
            " [[250 250 250]\n",
            "  [250 250 250]\n",
            "  [250 250 250]\n",
            "  ...\n",
            "  [239 239 239]\n",
            "  [239 239 239]\n",
            "  [240 240 240]]\n",
            "\n",
            " ...\n",
            "\n",
            " [[ 41  41  41]\n",
            "  [ 45  45  45]\n",
            "  [ 32  32  32]\n",
            "  ...\n",
            "  [215 215 215]\n",
            "  [217 217 217]\n",
            "  [219 219 219]]\n",
            "\n",
            " [[ 52  52  52]\n",
            "  [ 38  38  38]\n",
            "  [ 42  42  42]\n",
            "  ...\n",
            "  [216 216 216]\n",
            "  [217 217 217]\n",
            "  [217 217 217]]\n",
            "\n",
            " [[ 65  65  65]\n",
            "  [ 42  42  42]\n",
            "  [ 51  51  51]\n",
            "  ...\n",
            "  [218 218 218]\n",
            "  [218 218 218]\n",
            "  [217 217 217]]]\n"
          ]
        }
      ]
    }
  ]
}